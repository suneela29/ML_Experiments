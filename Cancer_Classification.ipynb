{
  "cells": [
    {
      "cell_type": "code",
      "execution_count": 3,
      "metadata": {
        "trusted": true
      },
      "outputs": [
        {
          "name": "stdout",
          "output_type": "stream",
          "text": [
            "AdaBoost model trained successfully.\n",
            "SVM model trained successfully.\n",
            "MLP model trained successfully.\n",
            "AdaBoost Accuracy: 0.9370629370629371\n",
            "SVM Accuracy: 0.9370629370629371\n",
            "MLP Accuracy: 0.951048951048951\n",
            "The best performing model is: MLP with accuracy: 0.951048951048951\n"
          ]
        }
      ],
      "source": [
        "# Step 1: Load the medical dataset\n",
        "from sklearn.datasets import load_breast_cancer\n",
        "from sklearn.model_selection import train_test_split\n",
        "from sklearn.ensemble import AdaBoostClassifier\n",
        "from sklearn.svm import SVC\n",
        "from sklearn.neural_network import MLPClassifier\n",
        "from sklearn.metrics import accuracy_score\n",
        "\n",
        "# Load the breast cancer dataset\n",
        "data = load_breast_cancer()\n",
        "X = data.data\n",
        "y = data.target\n",
        "\n",
        "# Step 2: Split the data into training and testing sets\n",
        "X_train, X_test, y_train, y_test = train_test_split(X, y, test_size=0.25, stratify=y)\n",
        "\n",
        "# Step 3: Define and train the models\n",
        "models = {\n",
        "    \"AdaBoost\": AdaBoostClassifier(),\n",
        "    \"SVM\": SVC(),\n",
        "    \"MLP\": MLPClassifier()\n",
        "}\n",
        "\n",
        "for name, model in models.items():\n",
        "    model.fit(X_train, y_train)\n",
        "    print(f\"{name} model trained successfully.\")\n",
        "\n",
        "# Step 4: Evaluate the models on the testing dataset and compare the results\n",
        "results = {}\n",
        "for name, model in models.items():\n",
        "    y_pred = model.predict(X_test)\n",
        "    accuracy = accuracy_score(y_test, y_pred)\n",
        "    results[name] = accuracy\n",
        "    print(f\"{name} Accuracy: {accuracy}\")\n",
        "\n",
        "# Compare the results\n",
        "best_model = max(results, key=results.get)\n",
        "print(f\"The best performing model is: {best_model} with accuracy: {results[best_model]}\")\n"
      ]
    },
    {
      "cell_type": "markdown",
      "metadata": {},
      "source": [
        "1. Load the dataset: Load the breast cancer dataset from scikit-learn.\n",
        "2. Split the data: Split the dataset into training and testing sets (75% training, 25% testing) while preserving the class distribution.\n",
        "3. Define and train models: Define three classifiers (AdaBoost, SVM, MLP) and train them on the training data.\n",
        "4. Evaluate models: Predict labels for the testing data using each trained model and calculate accuracy.\n",
        "5. Compare results: Identify the best performing model based on accuracy and print its name and accuracy."
      ]
    }
  ],
  "metadata": {
    "kernelspec": {
      "display_name": "Python (Pyodide)",
      "language": "python",
      "name": "python"
    },
    "language_info": {
      "codemirror_mode": {
        "name": "python",
        "version": 3
      },
      "file_extension": ".py",
      "mimetype": "text/x-python",
      "name": "python",
      "nbconvert_exporter": "python",
      "pygments_lexer": "ipython3",
      "version": "3.8"
    }
  },
  "nbformat": 4,
  "nbformat_minor": 4
}
